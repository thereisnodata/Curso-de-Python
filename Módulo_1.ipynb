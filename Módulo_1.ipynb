{
  "nbformat": 4,
  "nbformat_minor": 0,
  "metadata": {
    "colab": {
      "provenance": []
    },
    "kernelspec": {
      "name": "python3",
      "display_name": "Python 3"
    },
    "language_info": {
      "name": "python"
    }
  },
  "cells": [
    {
      "cell_type": "markdown",
      "source": [
        "# **PRIMERA CLASE DE PYTHON**"
      ],
      "metadata": {
        "id": "5VZXKAgdWwjQ"
      }
    },
    {
      "cell_type": "markdown",
      "source": [
        "Python es un leguaje de programación por tanto cada cosa que quisieramos hacer con este lenguaje debemos instruirla mediante código."
      ],
      "metadata": {
        "id": "abKaAxoQW6ud"
      }
    },
    {
      "cell_type": "markdown",
      "source": [
        "# Funcionamiento de Google Colaboratory"
      ],
      "metadata": {
        "id": "QUPoZ3CpqI2o"
      }
    },
    {
      "cell_type": "code",
      "source": [
        "# Esto es un comentario en un bloque de código\n",
        "2 + 2"
      ],
      "metadata": {
        "colab": {
          "base_uri": "https://localhost:8080/"
        },
        "id": "FBGLtutBqKkH",
        "outputId": "df72d467-7f8b-4cd7-a81f-b0144138856a"
      },
      "execution_count": 4,
      "outputs": [
        {
          "output_type": "execute_result",
          "data": {
            "text/plain": [
              "4"
            ]
          },
          "metadata": {},
          "execution_count": 4
        }
      ]
    },
    {
      "cell_type": "markdown",
      "source": [
        "Texto normal\n",
        "# Esto es un Título 1\n",
        "\n",
        "## Esto es un Título 2\n",
        "\n",
        "### Esto es un Título 3\n",
        "\n",
        "#### Esto es un Título 4\n",
        "\n",
        "**Texto en negrita**\n",
        "\n",
        "*Texto en cursiva*\n",
        "\n",
        "- Elemento 1 de una lista no numerada\n",
        "- Elemento 2 de una lista no numerada\n",
        "- Elemento 3 de una lista no numerada\n",
        "\n",
        "1. Elemento 1 de una lista numerada\n",
        "    \n",
        "    1.1. Elemento 1.1. de una lista numerada\n",
        "      \n",
        "    1.2. Elemento 1.2. de una lista numerada\n",
        "2. Elemento 2 de una lista numerada\n",
        "    \n",
        "    a. Apartado a)\n",
        "\n",
        "    b. Apartado b)\n",
        "3. Elemento 3 de una lista numerada\n",
        "\n",
        "  Nuevo párrafo dentro del tercer elemento de una lista numerada\n",
        "\n",
        "\n",
        "---\n",
        "\n",
        "Fórmula matemática dentro de línea: $2 + 2 = 4$\n",
        "\n",
        "Fórmula matemática centrada en línea aparte: $$2 + 2 = 4$$"
      ],
      "metadata": {
        "id": "F_XMO6kjqZzc"
      }
    },
    {
      "cell_type": "markdown",
      "source": [
        "# Instrucciones y Funciones\n",
        "\n",
        "Python está formado por instrucciones (a veces también son llamadas sentencias). Cada instrucción se escribe normalmente en una línea. Por ejemplo, la siguiente instrucción sirve para imprimir el mensaje \"Hola, mundo!\" en la pantalla."
      ],
      "metadata": {
        "id": "SohU0XtzrvTd"
      }
    },
    {
      "cell_type": "code",
      "source": [
        "print(\"Hola, mundo!\")"
      ],
      "metadata": {
        "colab": {
          "base_uri": "https://localhost:8080/"
        },
        "id": "zqP9FbacsH0n",
        "outputId": "4d3d8e63-60d4-48ef-a1d1-2512cfee47a8"
      },
      "execution_count": 3,
      "outputs": [
        {
          "output_type": "stream",
          "name": "stdout",
          "text": [
            "Hola, mundo!\n"
          ]
        }
      ]
    },
    {
      "cell_type": "markdown",
      "source": [
        "Si   en un programa hay   varias instrucciones, estas se   ejecutan secuencialmente, una tras otra."
      ],
      "metadata": {
        "id": "K1PPSLOqsL4V"
      }
    },
    {
      "cell_type": "code",
      "source": [
        "print(\"Hola, mundo!\")\n",
        "print(\"Adiós, mundo!\")"
      ],
      "metadata": {
        "colab": {
          "base_uri": "https://localhost:8080/"
        },
        "id": "eL-zX7J5sOka",
        "outputId": "18bbe898-cf0a-4ab7-99ed-5582d2320b72"
      },
      "execution_count": 2,
      "outputs": [
        {
          "output_type": "stream",
          "name": "stdout",
          "text": [
            "Hola, mundo!\n",
            "Adiós, mundo!\n"
          ]
        }
      ]
    },
    {
      "cell_type": "markdown",
      "source": [
        "# Operadores Matemáticos y Tipo de Datos\n",
        "\n",
        "|Significado|Signo|Uso|\n",
        "|----|---|---|\n",
        "|Suma|+|Obtiene el resultado de sumar dos valores|\n",
        "|Resta|-|Obtiene la diferencia entre dos valores|\n",
        "|Multiplicación|*|Obtiene el producto entre dos variables|\n",
        "|División|/|Obtiene el resultado de dividir un valor entre otro|\n",
        "|División Entera|//|Obtiene el cociente de una división entre dos valores|\n",
        "|Módulo|%|Obtiene el residuo de una división|\n",
        "|Potenciación|**|Obtiene el resultado de elevar una base a una potencia|"
      ],
      "metadata": {
        "id": "p47F3HFhtonj"
      }
    },
    {
      "cell_type": "markdown",
      "source": [
        "# Variables\n",
        "\n",
        "**Variable.** Consta de un espacio en el sistema de almacenaje (memoria principal de un ordenador) y un nombre simbólico (un identificador) que está asociado a dicho espacio.\n",
        "\n",
        "Dicho de otro modo, una variable es la relación que hay entre un nombre y un objeto ubicado en algún lugar de la memoria del ordenador.\n",
        "\n",
        "En `Python` asignamos valores a las variables siguiendo el siguiente formato: `nombre_variable = valor`"
      ],
      "metadata": {
        "id": "MuFJOosOret1"
      }
    },
    {
      "cell_type": "code",
      "source": [
        "x = 1\n",
        "x"
      ],
      "metadata": {
        "colab": {
          "base_uri": "https://localhost:8080/"
        },
        "id": "BvE-v1pprqTJ",
        "outputId": "59be2e7d-10eb-4b8a-db8f-48f98977df51"
      },
      "execution_count": 5,
      "outputs": [
        {
          "output_type": "execute_result",
          "data": {
            "text/plain": [
              "1"
            ]
          },
          "metadata": {},
          "execution_count": 5
        }
      ]
    },
    {
      "cell_type": "code",
      "source": [
        "y = \"hola\"\n",
        "y"
      ],
      "metadata": {
        "colab": {
          "base_uri": "https://localhost:8080/",
          "height": 36
        },
        "id": "ZIDY6VOSrra9",
        "outputId": "49bcae77-2ecb-43bd-ca57-23fceace2683"
      },
      "execution_count": 6,
      "outputs": [
        {
          "output_type": "execute_result",
          "data": {
            "text/plain": [
              "'hola'"
            ],
            "application/vnd.google.colaboratory.intrinsic+json": {
              "type": "string"
            }
          },
          "metadata": {},
          "execution_count": 6
        }
      ]
    },
    {
      "cell_type": "code",
      "source": [
        "print(x,y)"
      ],
      "metadata": {
        "colab": {
          "base_uri": "https://localhost:8080/"
        },
        "id": "BPmvZz6Gv47A",
        "outputId": "d8ea9745-c1be-4575-b5e3-f4c1dc30bdef"
      },
      "execution_count": 8,
      "outputs": [
        {
          "output_type": "stream",
          "name": "stdout",
          "text": [
            "1 hola\n"
          ]
        }
      ]
    },
    {
      "cell_type": "markdown",
      "source": [
        "### Restricciones sobre los nombres de las variables\n",
        "\n",
        "- No pueden empezar ni contener carácteres especiales\n",
        "- No pueden empezar por números\n",
        "- No pueden ser llamadas igual que las palabras claves reservadas en Python\n",
        "- No pueden contener espacios\n",
        "\n",
        "**Observación.** Conviene que al darle nombre a una variable, éste tenga sentido en cuanto al dato que guarde, para que así resulte mucho más fácil la comprensión por parte de quien lea el código.\n",
        "\n",
        "**Observación.** A día de hoy, si los nombres de las variables están compuestos por múltiples palabras, hay 4 formas de escribir dichos nombres:\n",
        "\n",
        "- camelCase: `nombreMascota`\n",
        "- PascalCase: `NombreMascota`\n",
        "- snake_case: `nombre_mascota`\n",
        "- kebab-case: `nombre-mascota`"
      ],
      "metadata": {
        "id": "s5kO_yLSua5q"
      }
    },
    {
      "cell_type": "markdown",
      "source": [
        "### Palabras clave en `Python`\n",
        "\n",
        "Las palabras clave en `Python` son las que se muestran con el siguiente chunk de código."
      ],
      "metadata": {
        "id": "z5usKOhMuvLi"
      }
    },
    {
      "cell_type": "code",
      "source": [
        "import keyword\n",
        "keyword.kwlist"
      ],
      "metadata": {
        "colab": {
          "base_uri": "https://localhost:8080/"
        },
        "id": "Jyedx74Guvze",
        "outputId": "e1659641-79a5-4464-824b-feb0d5823d15"
      },
      "execution_count": 7,
      "outputs": [
        {
          "output_type": "execute_result",
          "data": {
            "text/plain": [
              "['False',\n",
              " 'None',\n",
              " 'True',\n",
              " 'and',\n",
              " 'as',\n",
              " 'assert',\n",
              " 'async',\n",
              " 'await',\n",
              " 'break',\n",
              " 'class',\n",
              " 'continue',\n",
              " 'def',\n",
              " 'del',\n",
              " 'elif',\n",
              " 'else',\n",
              " 'except',\n",
              " 'finally',\n",
              " 'for',\n",
              " 'from',\n",
              " 'global',\n",
              " 'if',\n",
              " 'import',\n",
              " 'in',\n",
              " 'is',\n",
              " 'lambda',\n",
              " 'nonlocal',\n",
              " 'not',\n",
              " 'or',\n",
              " 'pass',\n",
              " 'raise',\n",
              " 'return',\n",
              " 'try',\n",
              " 'while',\n",
              " 'with',\n",
              " 'yield']"
            ]
          },
          "metadata": {},
          "execution_count": 7
        }
      ]
    }
  ]
}